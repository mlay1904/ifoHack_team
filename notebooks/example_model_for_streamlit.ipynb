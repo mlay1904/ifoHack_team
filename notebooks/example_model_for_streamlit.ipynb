{
 "cells": [
  {
   "attachments": {},
   "cell_type": "markdown",
   "metadata": {},
   "source": [
    "Mock up streamlit app"
   ]
  },
  {
   "cell_type": "code",
   "execution_count": 46,
   "metadata": {},
   "outputs": [],
   "source": [
    "import pandas as pd\n",
    "import numpy as np\n",
    "import streamlit as st\n",
    "import matplotlib.pyplot as plt\n",
    "import matplotlib as mpl\n",
    "import os\n",
    "from sklearn.ensemble import RandomForestRegressor\n",
    "from sklearn.pipeline import Pipeline\n",
    "from sklearn.preprocessing import StandardScaler\n",
    "from sklearn import linear_model\n",
    "from sklearn import tree\n",
    "from sklearn.model_selection import train_test_split\n",
    "from sklearn.metrics import mean_squared_error\n",
    "\n",
    "import mlflow\n",
    "import mlflow.sklearn"
   ]
  },
  {
   "cell_type": "code",
   "execution_count": 5,
   "metadata": {},
   "outputs": [
    {
     "data": {
      "text/plain": [
       "'c:\\\\Users\\\\lay.IFO.000\\\\Documents\\\\ifoHackData'"
      ]
     },
     "execution_count": 5,
     "metadata": {},
     "output_type": "execute_result"
    }
   ],
   "source": [
    "homedir = os.path.abspath(os.path.join(os.getcwd(), os.pardir))\n",
    "homedir+\"/Data\""
   ]
  },
  {
   "cell_type": "code",
   "execution_count": 8,
   "metadata": {},
   "outputs": [],
   "source": [
    "Landprices_raw = pd.read_csv(homedir+\"/Data/1 Land Prices/Land_Prices_Neighborhood_Berlin.csv\", sep=\";\")"
   ]
  },
  {
   "cell_type": "code",
   "execution_count": null,
   "metadata": {},
   "outputs": [],
   "source": [
    "Convert Area_Type into numeric"
   ]
  },
  {
   "cell_type": "code",
   "execution_count": 31,
   "metadata": {},
   "outputs": [],
   "source": [
    "conditions = [\n",
    "    (Landprices_raw[\"Area_Types\"] == \"MixedUseArea_Residential_SpecialUseArea\"),\n",
    "    (Landprices_raw[\"Area_Types\"] == \"CommercialBuildingArea_MixedUseArea_Residential_SpecialUseArea\"),\n",
    "    (Landprices_raw[\"Area_Types\"] == \"Residential\"),\n",
    "    (Landprices_raw[\"Area_Types\"] == \"CommercialBuildingArea_MixedUseArea_Residential\"),\n",
    "    (Landprices_raw[\"Area_Types\"] == \"CommercialBuildingArea_Residential\"),\n",
    "    (Landprices_raw[\"Area_Types\"] == \"CommercialBuildingArea_Residential_SpecialUseArea\"),\n",
    "    (Landprices_raw[\"Area_Types\"] == \"Residential_SpecialUseArea\"),\n",
    "    (Landprices_raw[\"Area_Types\"] == \"MixedUseArea\"),\n",
    "    (Landprices_raw[\"Area_Types\"] == \"MixedUseArea_Residential\"),\n",
    "]\n",
    "\n",
    "values = [1,2,3,4,5,6,7,8,9]\n",
    "\n",
    "Landprices_raw[\"Area_Types_num\"] = np.select(conditions, values)"
   ]
  },
  {
   "cell_type": "code",
   "execution_count": 32,
   "metadata": {},
   "outputs": [],
   "source": [
    "X = Landprices_raw[[\"Area_Types_num\", \"Area_Count\"]]\n",
    "y = Landprices_raw[[\"Land_Value\"]]"
   ]
  },
  {
   "cell_type": "code",
   "execution_count": 48,
   "metadata": {},
   "outputs": [
    {
     "name": "stderr",
     "output_type": "stream",
     "text": [
      "c:\\Users\\lay.IFO.000\\.conda\\envs\\ifohack_spatial_py310\\lib\\site-packages\\sklearn\\base.py:439: UserWarning: X does not have valid feature names, but DecisionTreeRegressor was fitted with feature names\n",
      "  warnings.warn(\n"
     ]
    },
    {
     "data": {
      "text/plain": [
       "array([7877.8])"
      ]
     },
     "execution_count": 48,
     "metadata": {},
     "output_type": "execute_result"
    }
   ],
   "source": [
    "rtr = tree.DecisionTreeRegressor()\n",
    "rtr= rtr.fit(X,y)\n",
    "\n",
    "rtr.predict([[1,3]])"
   ]
  },
  {
   "cell_type": "code",
   "execution_count": 33,
   "metadata": {},
   "outputs": [],
   "source": [
    "X_train, X_test, y_train, y_test = train_test_split(\n",
    "    X,y, test_size=0.15, random_state = 42\n",
    ")"
   ]
  },
  {
   "attachments": {},
   "cell_type": "markdown",
   "metadata": {},
   "source": [
    "Start Model pipeline to compare different models"
   ]
  },
  {
   "cell_type": "code",
   "execution_count": 41,
   "metadata": {},
   "outputs": [],
   "source": [
    "def create_pipeline(alpha: int) -> Pipeline:\n",
    "    return Pipeline(\n",
    "        steps=[('scalar', StandardScaler()),\n",
    "               ('model', linear_model.Ridge( \n",
    "               ))])\n"
   ]
  },
  {
   "cell_type": "code",
   "execution_count": 54,
   "metadata": {},
   "outputs": [
    {
     "name": "stderr",
     "output_type": "stream",
     "text": [
      "Successfully registered model 'land_price_ridge_regression'.\n",
      "2023/04/29 13:40:12 INFO mlflow.tracking._model_registry.client: Waiting up to 300 seconds for model version to finish creation. Model name: land_price_ridge_regression, version 1\n",
      "Created version '1' of model 'land_price_ridge_regression'.\n"
     ]
    },
    {
     "name": "stdout",
     "output_type": "stream",
     "text": [
      "Model saved in run 2c7981f430944d368fce87e13550d07c. RMSE=1775.4096367114314\n"
     ]
    },
    {
     "name": "stderr",
     "output_type": "stream",
     "text": [
      "Registered model 'land_price_ridge_regression' already exists. Creating a new version of this model...\n",
      "2023/04/29 13:40:15 INFO mlflow.tracking._model_registry.client: Waiting up to 300 seconds for model version to finish creation. Model name: land_price_ridge_regression, version 2\n",
      "Created version '2' of model 'land_price_ridge_regression'.\n"
     ]
    },
    {
     "name": "stdout",
     "output_type": "stream",
     "text": [
      "Model saved in run d9a10298d1c348fcadca608d621604c7. RMSE=1775.4096367114314\n"
     ]
    },
    {
     "name": "stderr",
     "output_type": "stream",
     "text": [
      "Registered model 'land_price_ridge_regression' already exists. Creating a new version of this model...\n",
      "2023/04/29 13:40:19 INFO mlflow.tracking._model_registry.client: Waiting up to 300 seconds for model version to finish creation. Model name: land_price_ridge_regression, version 3\n",
      "Created version '3' of model 'land_price_ridge_regression'.\n"
     ]
    },
    {
     "name": "stdout",
     "output_type": "stream",
     "text": [
      "Model saved in run 1d6dd937075d4198b169a5f5da6ffaac. RMSE=1775.4096367114314\n"
     ]
    },
    {
     "name": "stderr",
     "output_type": "stream",
     "text": [
      "Registered model 'land_price_ridge_regression' already exists. Creating a new version of this model...\n",
      "2023/04/29 13:40:23 INFO mlflow.tracking._model_registry.client: Waiting up to 300 seconds for model version to finish creation. Model name: land_price_ridge_regression, version 4\n",
      "Created version '4' of model 'land_price_ridge_regression'.\n"
     ]
    },
    {
     "name": "stdout",
     "output_type": "stream",
     "text": [
      "Model saved in run fc07acc0fea840daac09f1c13f2a4aac. RMSE=1775.4096367114314\n"
     ]
    },
    {
     "name": "stderr",
     "output_type": "stream",
     "text": [
      "Registered model 'land_price_ridge_regression' already exists. Creating a new version of this model...\n",
      "2023/04/29 13:40:27 INFO mlflow.tracking._model_registry.client: Waiting up to 300 seconds for model version to finish creation. Model name: land_price_ridge_regression, version 5\n",
      "Created version '5' of model 'land_price_ridge_regression'.\n"
     ]
    },
    {
     "name": "stdout",
     "output_type": "stream",
     "text": [
      "Model saved in run 9a5d749484064becaa07510c3c9214be. RMSE=1775.4096367114314\n"
     ]
    },
    {
     "name": "stderr",
     "output_type": "stream",
     "text": [
      "Registered model 'land_price_ridge_regression' already exists. Creating a new version of this model...\n",
      "2023/04/29 13:40:31 INFO mlflow.tracking._model_registry.client: Waiting up to 300 seconds for model version to finish creation. Model name: land_price_ridge_regression, version 6\n"
     ]
    },
    {
     "name": "stdout",
     "output_type": "stream",
     "text": [
      "Model saved in run 9e447c1228d7419b8d8022c8f1cd7e72. RMSE=1775.4096367114314\n"
     ]
    },
    {
     "name": "stderr",
     "output_type": "stream",
     "text": [
      "Created version '6' of model 'land_price_ridge_regression'.\n"
     ]
    }
   ],
   "source": [
    "alpha_to_try = [0.1,0.2,0.3,0.4,0.5,0.6]\n",
    "REGISTERED_MODEL_NAME = \"land_price_ridge_regression\"  \n",
    "\n",
    "for alpha in alpha_to_try:\n",
    "    with mlflow.start_run():\n",
    "        # build a pipeline with a ridge regression model\n",
    "        model_pipeline = create_pipeline(alpha=alpha)\n",
    "        model_pipeline.fit(X_train, y_train)\n",
    "\n",
    "        # calculaye the mean squared error using the test data\n",
    "        y_pred = model_pipeline.predict(X=X_test)\n",
    "        mse = mean_squared_error(\n",
    "            y_true=y_test, y_pred=y_pred, squared=False, multioutput='uniform_average')\n",
    "\n",
    "        # log parameters, metrics and the model\n",
    "        mlflow.log_param(key=\"alpha\", value=alpha)\n",
    "        mlflow.log_metric(key=\"mean_squared_error\", value=mse)\n",
    "        mlflow.sklearn.log_model(\n",
    "            sk_model=model_pipeline, artifact_path=\"house_model_forest\", registered_model_name=REGISTERED_MODEL_NAME)\n",
    "\n",
    "        print(\n",
    "            f\"Model saved in run {mlflow.active_run().info.run_uuid}. RMSE={mse}\")"
   ]
  },
  {
   "cell_type": "code",
   "execution_count": 44,
   "metadata": {},
   "outputs": [
    {
     "name": "stdout",
     "output_type": "stream",
     "text": [
      "^C\n"
     ]
    }
   ],
   "source": [
    "!mlflow ui"
   ]
  },
  {
   "cell_type": "code",
   "execution_count": 55,
   "metadata": {},
   "outputs": [
    {
     "data": {
      "text/plain": [
       "<ModelVersion: aliases=[], creation_timestamp=1682768427759, current_stage='Production', description=None, last_updated_timestamp=1682768452068, name='land_price_ridge_regression', run_id='9a5d749484064becaa07510c3c9214be', run_link=None, source='file:///c:/Users/lay.IFO.000/Documents/ifoHack/notebooks/mlruns/0/9a5d749484064becaa07510c3c9214be/artifacts/house_model_forest', status='READY', status_message=None, tags={}, user_id=None, version=5>"
      ]
     },
     "execution_count": 55,
     "metadata": {},
     "output_type": "execute_result"
    }
   ],
   "source": [
    "# only necessary, if you did not stage a model for production using the web interface\n",
    "client = mlflow.MlflowClient()\n",
    "client.transition_model_version_stage(\n",
    "    name=REGISTERED_MODEL_NAME,\n",
    "    version=5,  # todo: choose the model version, if not already done in the web interface\n",
    "    stage=\"Production\"\n",
    ")"
   ]
  },
  {
   "attachments": {},
   "cell_type": "markdown",
   "metadata": {},
   "source": [
    "Model deployment"
   ]
  },
  {
   "cell_type": "code",
   "execution_count": 63,
   "metadata": {},
   "outputs": [
    {
     "name": "stderr",
     "output_type": "stream",
     "text": [
      "2023/04/29 14:16:34 INFO mlflow.models.flavor_backend_registry: Selected backend for flavor 'python_function'\n",
      "2023/04/29 14:16:34 INFO mlflow.models.docker_utils: Building docker image with name land_price_model_api\n",
      "#1 [internal] load build definition from Dockerfile\n",
      "#1 sha256:22ce8b4f5259bbc45ebd218fa6401dfd2e7a51b1409dfc754a945542c39b9225\n",
      "#1 DONE 0.0s\n",
      "\n",
      "#1 [internal] load build definition from Dockerfile\n",
      "#1 sha256:22ce8b4f5259bbc45ebd218fa6401dfd2e7a51b1409dfc754a945542c39b9225\n",
      "#1 transferring dockerfile: 2.72kB done\n",
      "#1 DONE 0.0s\n",
      "\n",
      "#2 [internal] load .dockerignore\n",
      "#2 sha256:832c0b7011c84e5c47e6b8fc8af2db5288664933587d3e68346f9de16b236280\n",
      "#2 transferring context: 2B done\n",
      "#2 DONE 0.0s\n",
      "\n",
      "#3 [internal] load metadata for docker.io/library/ubuntu:20.04\n",
      "#3 sha256:8e67b796a66f85f06793e026943184e32d365c77929e94d2ac98b34a1e1cb30e\n",
      "#3 DONE 0.6s\n",
      "\n",
      "#4 [ 1/21] FROM docker.io/library/ubuntu:20.04@sha256:db8bf6f4fb351aa7a26e27ba2686cf35a6a409f65603e59d4c203e58387dc6b3\n",
      "#4 sha256:1bae5227e407d99860558d8d8b17e917f6c8055fb0b00be1395da7669a1fe74d\n",
      "#4 DONE 0.0s\n",
      "\n",
      "#22 [internal] load build context\n",
      "#22 sha256:39d367721da69db53711544373fd8aea65bf43076057e96047aa05042cb834d4\n",
      "#22 transferring context: 2.28kB done\n",
      "#22 DONE 0.0s\n",
      "\n",
      "#8 [ 5/21] RUN DEBIAN_FRONTEND=noninteractive TZ=Etc/UTC apt-get -y install tzdata\n",
      "#8 sha256:14d74b9b7a638b01cd79216ae9280265de68ef3a49d0c35e30b134e2f14ace74\n",
      "#8 CACHED\n",
      "\n",
      "#23 [19/21] COPY model_dir/ /opt/ml/model\n",
      "#23 sha256:e94df95d9b6006f98d8e4ec0e3ff818ba93857fb831775464cba5ee9c092231d\n",
      "#23 CACHED\n",
      "\n",
      "#12 [ 9/21] RUN ln -s -f $(which python3.8) /usr/bin/python\n",
      "#12 sha256:33e76f9cca9740757f11e8c60edc0d299913662e624901becef52fbef77f35ce\n",
      "#12 CACHED\n",
      "\n",
      "#15 [12/21] RUN pip install virtualenv\n",
      "#15 sha256:70308b5aee8377269d7e25bf403b38a733e19b3003abdce0377aae0f50d9629a\n",
      "#15 CACHED\n",
      "\n",
      "#6 [ 3/21] RUN DEBIAN_FRONTEND=noninteractive TZ=Etc/UTC apt-get install -y --no-install-recommends          wget          curl          nginx          ca-certificates          bzip2          build-essential          cmake          openjdk-8-jdk          git-core          maven     && rm -rf /var/lib/apt/lists/*\n",
      "#6 sha256:92b0491b680b081259af03ac42dc18f2c5d7e28747ebe1fb5083201a6f6737b3\n",
      "#6 CACHED\n",
      "\n",
      "#10 [ 7/21] RUN git clone     --depth 1     --branch $(git ls-remote --tags https://github.com/pyenv/pyenv.git | grep -o -E 'v[1-9]+(\\.[1-9]+)+$' | tail -1)     https://github.com/pyenv/pyenv.git /root/.pyenv\n",
      "#10 sha256:d227eb9532f32e54ee703e6c6519bbc8ee24e921bf2e4146fea6e080e1da75d0\n",
      "#10 CACHED\n",
      "\n",
      "#20 [17/21] RUN cp /opt/java/mlflow-scoring-2.3.0.pom /opt/java/pom.xml\n",
      "#20 sha256:2e2b9e79a23739a198173a3e432f12a8acd2e8a5e0616556c1b0eaeee06c9fc1\n",
      "#20 CACHED\n",
      "\n",
      "#5 [ 2/21] RUN apt-get -y update\n",
      "#5 sha256:8a977aa06d0cd88bbbd9d5d4cc459e36de7d079fb35b87b7e6ead4289d475653\n",
      "#5 CACHED\n",
      "\n",
      "#17 [14/21] RUN pip install mlflow==2.3.0\n",
      "#17 sha256:a34f56b93fa7ab95e59c72e5944e5a678aa98e614d06b9a66354b6e32b89b775\n",
      "#17 CACHED\n",
      "\n",
      "#11 [ 8/21] RUN apt install -y python3.8 python3.8-distutils\n",
      "#11 sha256:89c9dcfd9f4df5783341e33d0373f437f6950817fc523188875312b20c01ebe5\n",
      "#11 CACHED\n",
      "\n",
      "#18 [15/21] RUN mvn --batch-mode dependency:copy -Dartifact=org.mlflow:mlflow-scoring:2.3.0:pom -DoutputDirectory=/opt/java\n",
      "#18 sha256:8270b5742ff4cdba1e200a582ae40bc0c227ad27bde8ce4ca3c0a1e0aca3ada8\n",
      "#18 CACHED\n",
      "\n",
      "#7 [ 4/21] RUN apt -y update\n",
      "#7 sha256:d6b0341fe7e0591b281af5dc0cfd762d5c9a35ca2ecda7286f69274398a5cd66\n",
      "#7 CACHED\n",
      "\n",
      "#13 [10/21] RUN wget https://bootstrap.pypa.io/get-pip.py -O /tmp/get-pip.py\n",
      "#13 sha256:5155be5f8aecf538e28e3718e0de4a249a43dc13626a7aad6717698f511728e6\n",
      "#13 CACHED\n",
      "\n",
      "#19 [16/21] RUN mvn --batch-mode dependency:copy -Dartifact=org.mlflow:mlflow-scoring:2.3.0:jar -DoutputDirectory=/opt/java/jars\n",
      "#19 sha256:a44b7c08a2602cae6295318937d0f6ea7dec9b812503997d191ad2e227009ba5\n",
      "#19 CACHED\n",
      "\n",
      "#14 [11/21] RUN python /tmp/get-pip.py\n",
      "#14 sha256:eeae386afe126e9dad2e7f38854d12229b2022a763cacc0a4b8095bcb2bf87ea\n",
      "#14 CACHED\n",
      "\n",
      "#9 [ 6/21] RUN apt-get install -y     libssl-dev zlib1g-dev libbz2-dev libreadline-dev libsqlite3-dev wget curl llvm     libncursesw5-dev xz-utils tk-dev libxml2-dev libxmlsec1-dev libffi-dev liblzma-dev\n",
      "#9 sha256:a305e6e58f4355b40141b4655340ffbb70a502205f4d0dc5c96b35cddcce1df4\n",
      "#9 CACHED\n",
      "\n",
      "#16 [13/21] WORKDIR /opt/mlflow\n",
      "#16 sha256:55f52ff00c45307f45a39858bae36a9b13f7ce4b3802909d7b585188c20b53c5\n",
      "#16 CACHED\n",
      "\n",
      "#21 [18/21] RUN cd /opt/java && mvn --batch-mode dependency:copy-dependencies -DoutputDirectory=/opt/java/jars\n",
      "#21 sha256:562150b5c492276b06a2362581eddc8fbd40ee45dddb9773fccd381060fb8bd6\n",
      "#21 CACHED\n",
      "\n",
      "#24 [20/21] RUN python -c                     'from mlflow.models.container import _install_pyfunc_deps;                    _install_pyfunc_deps(                        \"/opt/ml/model\",                         install_mlflow=False,                         enable_mlserver=False,                         env_manager=\"local\")'\n",
      "#24 sha256:09eb88b68c5315f74d8419a2d46904cb07fe77d1b850983c2135b5fa4f952f6e\n",
      "#24 CACHED\n",
      "\n",
      "#25 [21/21] RUN chmod o+rwX /opt/mlflow/\n",
      "#25 sha256:6455e1ed944120b8707e56b0a305975b26bc6086b8230c4df2e7064e349b6df3\n",
      "#25 CACHED\n",
      "\n",
      "#26 exporting to image\n",
      "#26 sha256:e8c613e07b0b7ff33893b694f7759a10d42e180f2b4dc349fb57dc6b71dcab00\n",
      "#26 exporting layers done\n",
      "#26 writing image sha256:1078708b3397cb0781d52cb4508396bcd468f56c96c8e92e38f97ea1d282c602\n",
      "#26 writing image sha256:1078708b3397cb0781d52cb4508396bcd468f56c96c8e92e38f97ea1d282c602 done\n",
      "#26 naming to docker.io/library/land_price_model_api done\n",
      "#26 DONE 0.1s\n"
     ]
    }
   ],
   "source": [
    "mlflow.models.build_docker(\n",
    "    model_uri=f\"models:/{REGISTERED_MODEL_NAME}/Production\", name=\"land_price_model_api\", env_manager=\"local\")"
   ]
  }
 ],
 "metadata": {
  "kernelspec": {
   "display_name": "ifohack_spatial_py310",
   "language": "python",
   "name": "python3"
  },
  "language_info": {
   "codemirror_mode": {
    "name": "ipython",
    "version": 3
   },
   "file_extension": ".py",
   "mimetype": "text/x-python",
   "name": "python",
   "nbconvert_exporter": "python",
   "pygments_lexer": "ipython3",
   "version": "3.10.10"
  },
  "orig_nbformat": 4
 },
 "nbformat": 4,
 "nbformat_minor": 2
}
